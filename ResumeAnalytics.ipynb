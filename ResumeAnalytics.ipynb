{
 "cells": [
  {
   "cell_type": "code",
   "execution_count": null,
   "metadata": {
    "collapsed": true
   },
   "outputs": [],
   "source": [
    "import pandas as pd\n",
    "import numpy as np\n",
    "import matplotlib.pyplot as plt\n",
    "from sklearn.linear_model import LinearRegression "
   ]
  },
  {
   "cell_type": "code",
   "execution_count": null,
   "metadata": {},
   "outputs": [],
   "source": [
    "# Automated  Basic Cleaning\n",
    "# All of this should be re-exported back into the CSV before distributing iot \n",
    "\n",
    "df = pd.read_csv(\"Resume.csv\").applymap(lambda s:s.lower().strip() if type(s) == str else s)\n",
    "df = df[df[\"startyear\"] != 2011]\n",
    "df[\"skills\"] = df[\"skills\"].str.replace(\" \", \"\")\n",
    "\n",
    "def isUs(country):\n",
    "    return type(country) is str and \"canada\" not in country and (\", ca\" in country or \", wa\" in country or \", ny\" in country or \", nj\" in country)\n",
    "\n",
    "# Data Tagging whether internships are from USA or not \n",
    "df[\"is_us_1\"] = df[\"location1\"].map(isUs)\n",
    "df[\"is_us_2\"] = df[\"location2\"].map(isUs)\n",
    "df[\"is_us_3\"] = df[\"location3\"].map(isUs)\n",
    "df[\"is_us_4\"] = df[\"location4\"].map(isUs)\n",
    "df[\"is_us_5\"] = df[\"location5\"].map(isUs)\n",
    "df[\"is_us_6\"] = df[\"location6\"].map(isUs)\n",
    "\n",
    "# Remove newlines in role descriptions\n",
    "df[\"roles1\"] = df[\"roles1\"].str.replace(\"\\n\", \" \").str.replace(\"  \", \" \")\n",
    "df[\"roles2\"] = df[\"roles2\"].str.replace(\"\\n\", \" \").str.replace(\"  \", \" \")\n",
    "df[\"roles3\"] = df[\"roles3\"].str.replace(\"\\n\", \" \").str.replace(\"  \", \" \")\n",
    "df[\"roles4\"] = df[\"roles4\"].str.replace(\"\\n\", \" \").str.replace(\"  \", \" \")\n",
    "df[\"roles5\"] = df[\"roles5\"].str.replace(\"\\n\", \" \").str.replace(\"  \", \" \")\n",
    "df[\"roles6\"] = df[\"roles6\"].str.replace(\"\\n\", \" \").str.replace(\"  \", \" \")\n",
    "\n",
    "# Construct # of internship Field\n",
    "df[\"numinternships\"] = 1\n",
    "df.loc[~df[\"company2\"].isnull(), \"numinternships\"] = 2\n",
    "df.loc[~df[\"company3\"].isnull(), \"numinternships\"] = 3\n",
    "df.loc[~df[\"company4\"].isnull(), \"numinternships\"] = 4\n",
    "df.loc[~df[\"company5\"].isnull(), \"numinternships\"] = 5\n",
    "df.loc[~df[\"company6\"].isnull(), \"numinternships\"] = 6\n",
    "\n",
    "# TODO: Need to anonymize names\n",
    "# TODO: Reverse company order"
   ]
  },
  {
   "cell_type": "code",
   "execution_count": null,
   "metadata": {},
   "outputs": [],
   "source": [
    "df.columns"
   ]
  },
  {
   "cell_type": "markdown",
   "metadata": {},
   "source": [
    "# Intro to Jupyter Notebook Environment "
   ]
  },
  {
   "cell_type": "code",
   "execution_count": null,
   "metadata": {},
   "outputs": [],
   "source": [
    "last_apps = 50\n",
    "interviews = last_apps * 0.1\n",
    "reject = last_apps - interviews\n",
    "print(last_apps, interviews, reject)"
   ]
  },
  {
   "cell_type": "code",
   "execution_count": null,
   "metadata": {},
   "outputs": [],
   "source": [
    "# Case 1 \n",
    "case1_apps = 50 * 1.1 \n",
    "case1_interviews = case1_apps * 0.1\n",
    "case1_reject = case1_apps - case1_interviews\n",
    "print(case1_apps, case1_interviews, case1_reject)"
   ]
  },
  {
   "cell_type": "code",
   "execution_count": null,
   "metadata": {},
   "outputs": [],
   "source": [
    "# Case 2 \n",
    "case2_apps = 50\n",
    "case2_reject = 45 * 0.9\n",
    "case2_interviews = case2_apps - case2_reject\n",
    "print(case2_apps, case2_interviews, case2_reject)"
   ]
  },
  {
   "cell_type": "code",
   "execution_count": null,
   "metadata": {
    "collapsed": true
   },
   "outputs": [],
   "source": [
    "# Demo 1 - Intro to very basic data manipulation\n",
    "# df = pd.DataFrame()"
   ]
  },
  {
   "cell_type": "markdown",
   "metadata": {},
   "source": [
    "# Step 1 - Data Validation & Cleaning"
   ]
  },
  {
   "cell_type": "markdown",
   "metadata": {},
   "source": [
    "### Number of Internships vs Start Year \n",
    "Student Run - 3 Minutes"
   ]
  },
  {
   "cell_type": "code",
   "execution_count": null,
   "metadata": {},
   "outputs": [],
   "source": [
    "df[\"numinternships\"].describe()"
   ]
  },
  {
   "cell_type": "code",
   "execution_count": null,
   "metadata": {},
   "outputs": [],
   "source": [
    "has_start_year = df[~df[\"startyear\"].isnull()]\n",
    "\n",
    "X = has_start_year[\"startyear\"]\n",
    "Y = has_start_year[\"numinternships\"]\n",
    "plt.scatter( X  + np.random.normal(0, 0.1, len(has_start_year)), Y + np.random.normal(0, 0.1, len(has_start_year)))\n",
    "# Linear regression is too hard, don't bother with trying to explain it or demo it \n",
    "# plt.plot( X.reshape(-1,1), LinearRegression().fit(X.reshape(-1,1), Y.reshape(-1,1)).predict(X.reshape(-1,1)) )\n",
    "plt.xlabel(\"Start Year\")\n",
    "plt.ylabel(\"# of Internships\")\n",
    "\n",
    "plt.show()"
   ]
  },
  {
   "cell_type": "markdown",
   "metadata": {},
   "source": [
    "### Sanity Check GPA \n",
    "Student Run - 3 Minutes"
   ]
  },
  {
   "cell_type": "code",
   "execution_count": null,
   "metadata": {
    "scrolled": true
   },
   "outputs": [],
   "source": [
    "gpa_people = df[df[\"avggpa\"] < 5]\n",
    "gpa = gpa_people[\"avggpa\"]\n",
    "gpa.describe()"
   ]
  },
  {
   "cell_type": "code",
   "execution_count": null,
   "metadata": {},
   "outputs": [],
   "source": [
    "grades_people = df[df[\"avggpa\"] > 5]\n",
    "grades = grades_people[\"avggpa\"]\n",
    "grades.describe()"
   ]
  },
  {
   "cell_type": "markdown",
   "metadata": {},
   "source": [
    "#### Key Takeaways:\n",
    "\n",
    "- Generally, you would have had more internships the earlier you started University. \n",
    "- Don't use GPA or Average in your analysis. There isn't enough data on people with <80 average "
   ]
  },
  {
   "cell_type": "markdown",
   "metadata": {
    "collapsed": true
   },
   "source": [
    "# Step 2: Asking dataset where should I apply? \n",
    "\n",
    "Given that co-op apps close in 2 days, people might be wondering where they should apply. We attempt to answer the following questions: \n",
    "\n",
    "- Which places hire a lot of interns? (Get hired) \n",
    "- Which places hire a lot of first year interns? (some places discriminate against first year kids) \n",
    "- Find places where people are likely to return? (Be happy) "
   ]
  },
  {
   "cell_type": "markdown",
   "metadata": {},
   "source": [
    "### What places hire a lot of UW kids?\n",
    "\n",
    "Student Led - 3 Minutes"
   ]
  },
  {
   "cell_type": "code",
   "execution_count": null,
   "metadata": {
    "scrolled": true
   },
   "outputs": [],
   "source": [
    "companies = df[\"company1\"]\n",
    "companies = companies.append(df[\"company2\"])\n",
    "companies = companies.append(df[\"company3\"])\n",
    "companies = companies.append(df[\"company4\"])\n",
    "companies = companies.append(df[\"company5\"])\n",
    "companies = companies.append(df[\"company6\"])\n",
    "companies = companies[~companies.isnull()]\n",
    "companies.value_counts().head(10)"
   ]
  },
  {
   "cell_type": "markdown",
   "metadata": {},
   "source": [
    "### What places hire a lot of first years?\n"
   ]
  },
  {
   "cell_type": "code",
   "execution_count": null,
   "metadata": {
    "collapsed": true
   },
   "outputs": [],
   "source": [
    "one_coops = df[df[\"numinternships\"] == 1][\"company1\"]\n",
    "two_coops = df[df[\"numinternships\"] == 2][\"company2\"]\n",
    "three_coops = df[df[\"numinternships\"] == 3][\"company3\"]\n",
    "four_coops = df[df[\"numinternships\"] == 4][\"company4\"]\n",
    "five_coops = df[df[\"numinternships\"] == 5][\"company5\"]\n",
    "six_coops = df[df[\"numinternships\"] == 6][\"company6\"]"
   ]
  },
  {
   "cell_type": "code",
   "execution_count": null,
   "metadata": {
    "scrolled": true
   },
   "outputs": [],
   "source": [
    "one_coops.append(two_coops).append(three_coops).append(four_coops).append(five_coops).append(six_coops).value_counts()"
   ]
  },
  {
   "cell_type": "markdown",
   "metadata": {},
   "source": [
    "### What places hire a lot of interns who return?"
   ]
  },
  {
   "cell_type": "code",
   "execution_count": null,
   "metadata": {},
   "outputs": [],
   "source": [
    "return1 = df[df[\"company1\"] == df[\"company2\"]][\"company1\"]\n",
    "return2 = df[df[\"company2\"] == df[\"company3\"]][\"company2\"]\n",
    "return3 = df[df[\"company3\"] == df[\"company4\"]][\"company3\"]\n",
    "return4 = df[df[\"company4\"] == df[\"company5\"]][\"company4\"]\n",
    "return5 = df[df[\"company5\"] == df[\"company6\"]][\"company5\"]\n",
    "return1.append(return2).append(return3).append(return4).append(return5).value_counts()"
   ]
  },
  {
   "cell_type": "markdown",
   "metadata": {},
   "source": [
    "Key insights: \n",
    "- Shopify is probably a good place for first years to apply - they hire many waterloo kids, many first year waterloo kids, and people are happy there\n",
    "- If I don't get google or Cali for my first co-op, that's pretty common. In fact, most first co-ops work in Canada companies "
   ]
  },
  {
   "cell_type": "markdown",
   "metadata": {},
   "source": [
    "# Step 3: Asking dataset what skills I should get \n",
    "\n",
    "As a student, I may wonder 'What skills do I learn if I want to be employed'? That's a pretty broad question, so instead we'll answer some more specific q's instead:  \n",
    "\n",
    "- What skills are most popular among upper year students? \n",
    "- What skills are most used in jobs?\n",
    "- What skills are most likely to get me Cali? <- probably not doing this cause it's kinda toxic"
   ]
  },
  {
   "cell_type": "markdown",
   "metadata": {},
   "source": [
    "### What skills do a lot of people know?\n",
    "Students led - 3 minute \n"
   ]
  },
  {
   "cell_type": "code",
   "execution_count": null,
   "metadata": {},
   "outputs": [],
   "source": [
    "skills = df[~df[\"skills\"].isnull()][\"skills\"]\n",
    "# This last command is kinda challenging, think about how to show em how to write \n",
    "ranked_skills_list = skills.apply(lambda x: pd.value_counts(x.split(\",\"))).sum(axis = 0).sort_values(ascending=False)\n",
    "ranked_skills_list.head(10)"
   ]
  },
  {
   "cell_type": "markdown",
   "metadata": {},
   "source": [
    "### What skills do a lot of people use on their jobs?\n",
    "I really want students to run this analysis on their own, but may be too hard :/ "
   ]
  },
  {
   "cell_type": "code",
   "execution_count": null,
   "metadata": {},
   "outputs": [],
   "source": [
    "roles = df[\"roles1\"]\n",
    "roles = roles.append(df[\"roles2\"], ignore_index=True)\n",
    "roles = roles.append(df[\"roles3\"], ignore_index=True)\n",
    "roles = roles.append(df[\"roles4\"], ignore_index=True)\n",
    "roles = roles.append(df[\"roles5\"], ignore_index=True)\n",
    "roles = roles.append(df[\"roles6\"], ignore_index=True)\n",
    "\n",
    "\n",
    "roles = roles.loc[~roles.isnull()]\n",
    "ranked_roles_list = roles.apply(lambda x: pd.value_counts(x.split(\" \"))).sum(axis = 0).sort_values(ascending=False)\n",
    "skills_and_duties = pd.concat([ranked_skills_list, ranked_roles_list], axis=1, keys=[\"skills\", \"roles\"])\n",
    "skills_and_duties = skills_and_duties.loc[~skills_and_duties[\"skills\"].isnull() & ~skills_and_duties[\"roles\"].isnull()]\n"
   ]
  },
  {
   "cell_type": "code",
   "execution_count": null,
   "metadata": {},
   "outputs": [],
   "source": [
    "\n",
    "skills_and_duties.sort_values(by=[\"skills\"], ascending=False)\n"
   ]
  },
  {
   "cell_type": "code",
   "execution_count": null,
   "metadata": {},
   "outputs": [],
   "source": [
    "skills_and_duties.sort_values(by=[\"roles\"], ascending=False)\n",
    "# Maybe plot the top 10 skills if we have time? "
   ]
  },
  {
   "cell_type": "markdown",
   "metadata": {},
   "source": [
    "Key insights : \n",
    "- iOS and Android dev is useful for many jobs, but many people do not have it as a skill. Mobile dev may be a good niche to get into if you want the least competiton when applying for jobs ;) \n",
    "- For those interested in data, Spark may  be a good framework to learn \n",
    "- C++ is known by many people, but not many jobs are using C++. The oppositie is true for Golang\n",
    "- Python is quite a popular language to learn and also use on the job \n",
    "- Docker doesnt seem that popular in terms of co-op jobs (may imply DevOps jobs are rare). Validate this hypothesis? "
   ]
  },
  {
   "cell_type": "markdown",
   "metadata": {},
   "source": [
    "# Step 4 - Help me understand what a data scientist does \n",
    "People like to hype up machine learning. What do machine learning interns do? Is that something I'm interested in? Let's use data to find out. "
   ]
  },
  {
   "cell_type": "markdown",
   "metadata": {},
   "source": [
    "### What's a DS anyway? "
   ]
  },
  {
   "cell_type": "code",
   "execution_count": null,
   "metadata": {},
   "outputs": [],
   "source": [
    "ds_data = df[df[\"type\"]== \"ds\"][['skills', 'roles1', 'roles2', 'roles3', 'roles4', 'roles5', 'roles6','projdesc1','projdesc2','projdesc3','projdesc4','projdesc5']]\n",
    "ds_data.to_csv(\"ds_data.csv\")"
   ]
  },
  {
   "cell_type": "markdown",
   "metadata": {},
   "source": [
    "### Do I need to move to the States become a DS? "
   ]
  },
  {
   "cell_type": "code",
   "execution_count": null,
   "metadata": {
    "collapsed": true
   },
   "outputs": [],
   "source": [
    "ds_people = df[df[\"type\"]==\"ds\"]\n",
    "non_ds_people = df[df[\"type\"]!=\"ds\"]\n"
   ]
  },
  {
   "cell_type": "code",
   "execution_count": null,
   "metadata": {},
   "outputs": [],
   "source": [
    "job1 = ds_people[~ds_people[\"company1\"].isnull()][\"is_us_1\"]\n",
    "job2 = ds_people[~ds_people[\"company2\"].isnull()][\"is_us_2\"]\n",
    "job3 = ds_people[~ds_people[\"company3\"].isnull()][\"is_us_3\"]\n",
    "job4 = ds_people[~ds_people[\"company4\"].isnull()][\"is_us_4\"]\n",
    "job5 = ds_people[~ds_people[\"company5\"].isnull()][\"is_us_5\"]\n",
    "job6 = ds_people[~ds_people[\"company6\"].isnull()][\"is_us_6\"]\n",
    "\n",
    "ds_jobs = job1.append(job2).append(job3).append(job4).append(job5).append(job6)\n",
    "ds_jobs.value_counts()"
   ]
  },
  {
   "cell_type": "code",
   "execution_count": null,
   "metadata": {},
   "outputs": [],
   "source": [
    "job1 = non_ds_people[~non_ds_people[\"company1\"].isnull()][\"is_us_1\"]\n",
    "job2 = non_ds_people[~non_ds_people[\"company2\"].isnull()][\"is_us_2\"]\n",
    "job3 = non_ds_people[~non_ds_people[\"company3\"].isnull()][\"is_us_3\"]\n",
    "job4 = non_ds_people[~non_ds_people[\"company4\"].isnull()][\"is_us_4\"]\n",
    "job5 = non_ds_people[~non_ds_people[\"company5\"].isnull()][\"is_us_5\"]\n",
    "job6 = non_ds_people[~non_ds_people[\"company6\"].isnull()][\"is_us_6\"]\n",
    "\n",
    "\n",
    "non_ds_jobs = job1.append(job2).append(job3).append(job4).append(job5).append(job6)\n",
    "non_ds_jobs.value_counts()"
   ]
  },
  {
   "cell_type": "code",
   "execution_count": null,
   "metadata": {},
   "outputs": [],
   "source": [
    "10 / (31+10)"
   ]
  },
  {
   "cell_type": "code",
   "execution_count": null,
   "metadata": {},
   "outputs": [],
   "source": [
    "73 / (73 + 236)"
   ]
  },
  {
   "cell_type": "code",
   "execution_count": null,
   "metadata": {},
   "outputs": [],
   "source": [
    "# Compute the number of internships of DS and non DS people \n",
    "ds_people[\"numinternships\"].describe()"
   ]
  },
  {
   "cell_type": "code",
   "execution_count": null,
   "metadata": {},
   "outputs": [],
   "source": [
    "non_ds_people[\"numinternships\"].describe()"
   ]
  },
  {
   "cell_type": "markdown",
   "metadata": {},
   "source": [
    "### What skills do DS people know? \n",
    "There really isn't any new commands here. Just copy paste a previous command "
   ]
  },
  {
   "cell_type": "code",
   "execution_count": null,
   "metadata": {
    "scrolled": true
   },
   "outputs": [],
   "source": [
    "skills = ds_people[~ds_people[\"skills\"].isnull()][\"skills\"]\n",
    "ranked_skills_list = skills.apply(lambda x: pd.value_counts(x.split(\",\"))).sum(axis = 0).sort_values(ascending=False)\n",
    "ranked_skills_list.head(10)"
   ]
  },
  {
   "cell_type": "markdown",
   "metadata": {},
   "source": [
    "# Step 4: Understanding limitations in our data "
   ]
  },
  {
   "cell_type": "markdown",
   "metadata": {},
   "source": [
    "Briefly talk about how the data was collected (google search \"uwaterloo intern filetype:pdf\"). Then copy em to a spreadsheet. Probably convert this to an MC question and ask people? \n",
    "#### Questions that we cannot answer given our data: \n",
    "- Are UW students more likely to work in USA than UofT students? (Missing data) \n",
    "- Are DS people more likely to have personal websites than SWE people? (bad data collection method, implies everyone has website)\n",
    "- Do people with lower grades have less chances of getting PM? (not enough clear grade / GPA data) \n",
    "- Do short people have better jobs than tall people? (require causation, correlation is not useful. Also missing data on height) \n",
    "- When applying to Microsoft, does being in SYDE put you at a disadvantage? (causation) \n",
    "\n",
    "#### Questions that we can answer with our data:\n",
    "- Are DS more likely to have Githubs URLs than non-DS people on their resume? What about LinkedIn profiles on their resumes? \n",
    "- Out of the phone numbers people put on their resume, how many of them have are from Toronto? (Hint:  Toronto has area codes 416 / 647 / 437)? \n",
    "- Is a person's average 3rd internship more likely to be in USA or Canada?"
   ]
  },
  {
   "cell_type": "markdown",
   "metadata": {},
   "source": [
    "# Step 5: Summary: \n",
    "\n",
    "- Understanding data is not always intuitive. Data Analysts extract value ouf of data, which is not always easy   \n",
    "- Small improvements may have large downstream impacts (10% drop in rejections -> double # interviews) \n",
    "- Data analytics deals with taking data and extracting information. The usefulness of the information depends on us asking insightful questions we care about \n",
    "- Pandas and numpy deal with matricies (which are arrays of arrays). Manipulating these arrays help us extract information\n",
    "- First step of data analytics typically involves cleaning data and sanity checking our data to make sure we don't arrive at false conclusions\n",
    "- Plotting is possible with MatPlot lib, and can be helpful in data analytics\n",
    "- Sometimes, our questions cannot be answered from our data. In which case, we probably will need to collect more data "
   ]
  },
  {
   "cell_type": "code",
   "execution_count": null,
   "metadata": {},
   "outputs": [],
   "source": [
    "# Alternative way to count skills - This won't be used \n",
    "# Clean - Will probably be provided\n",
    "skillCounter = pd.DataFrame(skills, index=[\"count\"])\n",
    "\n",
    "for skilllist in df[\"Skills (list all skills as distinct words)\"]:\n",
    "    for k, v in skillCounter.items():\n",
    "        if \" \"+k+\" \" in skilllist or  \" \"+k+\", \" in skilllist:\n",
    "            skillCounter[k] = skillCounter[k] + 1\n",
    "    \n",
    "skillCounter.transpose().sort_values([\"count\"], ascending=False).head(10)"
   ]
  },
  {
   "cell_type": "code",
   "execution_count": null,
   "metadata": {
    "collapsed": true
   },
   "outputs": [],
   "source": [
    "# Alternative way to count skills - This won't be used \n",
    "# Clean - Will probably be provided\n",
    "df[\"Skills (list all skills as distinct words)\"].fillna(\"\", inplace=True)\n",
    "\n",
    "# Get a list of skills\n",
    "skillsCount = {}\n",
    "for skilllist in df[\"Skills (list all skills as distinct words)\"]:\n",
    "    skills = skilllist.split(\",\")\n",
    "    if len(skilllist) < 5:\n",
    "        continue\n",
    "    for skill in skills:\n",
    "        skill=skill.strip()\n",
    "        skillsCount[skill] = skillsCount.get(skill, 0) + 1\n",
    "skills = {k: 0 for k, v in sorted(skillsCount.items(), key=lambda x:x[1], reverse=True) if v >= 2}\n"
   ]
  },
  {
   "cell_type": "code",
   "execution_count": null,
   "metadata": {
    "collapsed": true
   },
   "outputs": [],
   "source": [
    "skillCounter = pd.DataFrame(skills, index=[\"count\"])\n",
    "\n",
    "jobs = df[\"Job Roles (May be large paragraph)\\n\"]\n",
    "jobs = jobs.append(df[\"Job Roles (May be large paragraph)\\n.1\"], ignore_index=True)\n",
    "jobs = jobs.append(df[\"Job Roles (May be large paragraph)\\n.2\"], ignore_index=True)\n",
    "jobs = jobs.append(df[\"Job Roles (May be large paragraph)\\n.3\"], ignore_index=True)\n",
    "jobs = jobs.append(df[\"Job Roles (May be large paragraph)\\n.4\"], ignore_index=True)\n",
    "jobs = jobs.append(df[\"Job Roles (May be large paragraph)\\n.5\"], ignore_index=True)\n",
    "jobs = jobs.dropna()\n",
    "\n",
    "for skilllist in jobs:\n",
    "    skilllist = skilllist.lower()\n",
    "    for k, v in skillCounter.items():\n",
    "        if \" \"+k+\", \" in skilllist or \" \"+k+\" \" in skilllist:\n",
    "            skillCounter[k] = skillCounter[k] + 1\n",
    "    \n",
    "skillCounter.transpose().sort_values([\"count\"], ascending=False).head(10)"
   ]
  }
 ],
 "metadata": {
  "kernelspec": {
   "display_name": "Python 3",
   "language": "python",
   "name": "python3"
  },
  "language_info": {
   "codemirror_mode": {
    "name": "ipython",
    "version": 3
   },
   "file_extension": ".py",
   "mimetype": "text/x-python",
   "name": "python",
   "nbconvert_exporter": "python",
   "pygments_lexer": "ipython3",
   "version": "3.6.3"
  }
 },
 "nbformat": 4,
 "nbformat_minor": 2
}
