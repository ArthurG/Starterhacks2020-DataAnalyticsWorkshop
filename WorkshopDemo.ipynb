{
 "cells": [
  {
   "cell_type": "markdown",
   "metadata": {},
   "source": [
    "# StarterHacks 2020 Intro to Data Analytics Workshop \n",
    "\n",
    "The workshop is meant to make students interested in Data Analytics. \n",
    "\n",
    "To accomplish this goal:\n",
    "\n",
    "- We use a dataset that some people are likely to be interested in working with (UW student resume dataset) \n",
    "- We avoid Data Cleaning since it's hard to communicate impact of data cleaning. Instead, we teach  \"Data Validation\" and try to motivate why it's important \n",
    "- Rather than focus on breadth or depth, this workshop focuses on minimal content and create many small exercises that people code up on their own \n",
    "- While package management is an important part of Data Science related jobs, this workshop abstracts that away.  Installation issues may cause resentment towards this profession. So, everything is hosted on JupyterHub (AWS) to minimize user-side installation "
   ]
  },
  {
   "cell_type": "code",
   "execution_count": null,
   "metadata": {
    "collapsed": true
   },
   "outputs": [],
   "source": [
    "import pandas as pd\n",
    "import numpy as np\n",
    "import matplotlib.pyplot as plt\n",
    "from sklearn.linear_model import LinearRegression "
   ]
  },
  {
   "cell_type": "code",
   "execution_count": null,
   "metadata": {},
   "outputs": [],
   "source": [
    "# Automated  Basic Cleaning\n",
    "# All of this should be baked into the dataset before distributing it to students  \n",
    "\n",
    "df = pd.read_csv(\"Resume.csv\").applymap(lambda s:s.lower().strip() if type(s) == str else s)\n",
    "df = df[df[\"startyear\"] != 2011]\n",
    "df[\"skills\"] = df[\"skills\"].str.replace(\" \", \"\")\n",
    "\n",
    "def isUs(country):\n",
    "    return type(country) is str and \"canada\" not in country and (\", ca\" in country or \", wa\" in country or \", ny\" in country or \", nj\" in country)\n",
    "\n",
    "# Data Tagging whether internships are from USA or not \n",
    "df[\"is_us_1\"] = df[\"location1\"].map(isUs)\n",
    "df[\"is_us_2\"] = df[\"location2\"].map(isUs)\n",
    "df[\"is_us_3\"] = df[\"location3\"].map(isUs)\n",
    "df[\"is_us_4\"] = df[\"location4\"].map(isUs)\n",
    "df[\"is_us_5\"] = df[\"location5\"].map(isUs)\n",
    "df[\"is_us_6\"] = df[\"location6\"].map(isUs)\n",
    "\n",
    "# Remove newlines in role descriptions\n",
    "df[\"roles1\"] = df[\"roles1\"].str.replace(\"\\n\", \" \").str.replace(\"  \", \" \")\n",
    "df[\"roles2\"] = df[\"roles2\"].str.replace(\"\\n\", \" \").str.replace(\"  \", \" \")\n",
    "df[\"roles3\"] = df[\"roles3\"].str.replace(\"\\n\", \" \").str.replace(\"  \", \" \")\n",
    "df[\"roles4\"] = df[\"roles4\"].str.replace(\"\\n\", \" \").str.replace(\"  \", \" \")\n",
    "df[\"roles5\"] = df[\"roles5\"].str.replace(\"\\n\", \" \").str.replace(\"  \", \" \")\n",
    "df[\"roles6\"] = df[\"roles6\"].str.replace(\"\\n\", \" \").str.replace(\"  \", \" \")\n",
    "\n",
    "# Construct # of internship Field\n",
    "df[\"numcoops\"] = 1\n",
    "df.loc[~df[\"company2\"].isnull(), \"numcoops\"] = 2\n",
    "df.loc[~df[\"company3\"].isnull(), \"numcoops\"] = 3\n",
    "df.loc[~df[\"company4\"].isnull(), \"numcoops\"] = 4\n",
    "df.loc[~df[\"company5\"].isnull(), \"numcoops\"] = 5\n",
    "df.loc[~df[\"company6\"].isnull(), \"numcoops\"] = 6\n",
    "df[\"numcoops_noisy\"] = df[\"numcoops\"] + np.random.normal(0, 0.1, len(df))\n",
    "df[\"startyear_noisy\"] = df[\"startyear\"] + np.random.normal(0, 0.1, len(df))\n",
    "\n",
    "df.loc[df[\"avggpa\"] < 5, \"gpa\"] = df[\"avggpa\"]\n",
    "df.loc[df[\"avggpa\"] > 5, \"pctgrades\"] = df[\"avggpa\"]\n",
    "del df[\"avggpa\"]\n",
    "df.to_csv(\"resume2.csv\") "
   ]
  },
  {
   "cell_type": "code",
   "execution_count": null,
   "metadata": {
    "collapsed": true
   },
   "outputs": [],
   "source": [
    "_df = pd.DataFrame(data =  {'col1': [None, \"I\", \"like\", \"cake\", \"and\", \"pie\"], \n",
    "                           'col2': [1, 1, None, 1, 1, None],\n",
    "                           'col3': [2, 1, 2, 1, 2, 1], \n",
    "                           'col4': [1, None, 3, 4, 5, 6],\n",
    "                           'col5': [1, 2, 4, None, 16, 32]})\n",
    "_df.to_csv(\"testdata1.csv\",index=False)"
   ]
  },
  {
   "cell_type": "code",
   "execution_count": null,
   "metadata": {
    "collapsed": true
   },
   "outputs": [],
   "source": []
  },
  {
   "cell_type": "markdown",
   "metadata": {},
   "source": [
    "### Demo 1: Intro to Jupyter Notebook Environment & DataFrame Operations\n",
    "\n",
    "Students should learn to use:\n",
    "- Column selection eg: df[\"col3\"]\n",
    "- Series.describe() method \n",
    "- Series.column"
   ]
  },
  {
   "cell_type": "code",
   "execution_count": null,
   "metadata": {},
   "outputs": [],
   "source": [
    "_df[\"col3\"]\n",
    "_df[\"col3\"].describe()\n",
    "_df.columns"
   ]
  },
  {
   "cell_type": "markdown",
   "metadata": {},
   "source": [
    "### Task 1: Data Validation & Sanity Checking"
   ]
  },
  {
   "cell_type": "code",
   "execution_count": null,
   "metadata": {
    "scrolled": true
   },
   "outputs": [],
   "source": [
    "df.columns\n",
    "gpa = df[\"gpa\"]\n",
    "gpa.describe()"
   ]
  },
  {
   "cell_type": "code",
   "execution_count": null,
   "metadata": {},
   "outputs": [],
   "source": [
    "grades = df[\"pctgrades\"]\n",
    "grades.describe()"
   ]
  },
  {
   "cell_type": "markdown",
   "metadata": {},
   "source": [
    "### Takeaways from task 1\n",
    "- Don't use GPA or Average in your analysis. There isn't enough data on people with <80 average "
   ]
  },
  {
   "cell_type": "markdown",
   "metadata": {},
   "source": [
    "### Demo 2: Series Operations & Intro to MatplotLib\n",
    "\n",
    "Students should learn to\n",
    "- Plot scatter plots on MatPlotLib \n",
    "- Add axis labels to plot "
   ]
  },
  {
   "cell_type": "code",
   "execution_count": null,
   "metadata": {
    "collapsed": true
   },
   "outputs": [],
   "source": []
  },
  {
   "cell_type": "code",
   "execution_count": null,
   "metadata": {
    "scrolled": true
   },
   "outputs": [],
   "source": [
    "plt.scatter(_df[\"col4\"], _df[\"col5\"])\n",
    "plt.show()"
   ]
  },
  {
   "cell_type": "markdown",
   "metadata": {},
   "source": [
    "### Task 2: More Data Validation via Plotting\n",
    "\n",
    "This task has been cut due to time constraints "
   ]
  },
  {
   "cell_type": "code",
   "execution_count": null,
   "metadata": {},
   "outputs": [],
   "source": [
    "df[\"numcoops\"].describe()"
   ]
  },
  {
   "cell_type": "code",
   "execution_count": null,
   "metadata": {},
   "outputs": [],
   "source": [
    "has_start_year = df[~df[\"startyear\"].isnull()]\n",
    "\n",
    "X = has_start_year[\"startyear\"]\n",
    "Y = has_start_year[\"numcoops\"]\n",
    "plt.scatter( X, Y)\n",
    "# Linear regression is too hard, don't bother with trying to explain it or demo it \n",
    "# plt.plot( X.reshape(-1,1), LinearRegression().fit(X.reshape(-1,1), Y.reshape(-1,1)).predict(X.reshape(-1,1)) )\n",
    "plt.xlabel(\"Start Year\")\n",
    "plt.ylabel(\"# of Internships\")\n",
    "\n",
    "plt.show()"
   ]
  },
  {
   "cell_type": "markdown",
   "metadata": {},
   "source": [
    "### Takeaways From Task 2:\n",
    "\n",
    "- Generally, you would have had more internships the earlier you started University. This is in line with our expectations. So NumInternships and StartYear fields are probably okay to use in our analysis\n"
   ]
  },
  {
   "cell_type": "markdown",
   "metadata": {},
   "source": [
    "### Demo 3 - Concatenating Series & counting\n",
    "Students should learn how to \n",
    "- Perform element-wise addition on Series\n",
    "- Append 2 series together\n",
    "- Count the number of elements in the series with .value_counts()"
   ]
  },
  {
   "cell_type": "code",
   "execution_count": null,
   "metadata": {},
   "outputs": [],
   "source": [
    "_df[\"col4\"]\n",
    "_df[\"col5\"]\n",
    "_df[\"col4\"] + _df[\"col5\"]\n",
    "_df[\"col4\"].append(_df[\"col5\"])\n",
    "_df[\"col3\"].value_counts()"
   ]
  },
  {
   "cell_type": "markdown",
   "metadata": {},
   "source": [
    "### Task 3 - What companies hires the most UW kids?"
   ]
  },
  {
   "cell_type": "code",
   "execution_count": null,
   "metadata": {
    "scrolled": true
   },
   "outputs": [],
   "source": [
    "companies = df[\"company1\"]\n",
    "companies = companies.append(df[\"company2\"])\n",
    "companies = companies.append(df[\"company3\"])\n",
    "companies = companies.append(df[\"company4\"])\n",
    "companies = companies.append(df[\"company5\"])\n",
    "companies = companies.append(df[\"company6\"])\n",
    "companies.value_counts().head(10)"
   ]
  },
  {
   "cell_type": "markdown",
   "metadata": {},
   "source": [
    "### Takeaways from task 3:\n",
    "If you are applying on an off-term, these are the companies you probably want to apply to... "
   ]
  },
  {
   "cell_type": "markdown",
   "metadata": {},
   "source": [
    "### Demo 4 - Subset Selection \n",
    "\n",
    "Students should learn how to\n",
    "- Select subsets of a dataframe\n",
    "- Perform operations on subsets of dataframes (and how they still behave like dataframes) "
   ]
  },
  {
   "cell_type": "code",
   "execution_count": null,
   "metadata": {},
   "outputs": [],
   "source": [
    "_df[\"col1\"].isnull()\n",
    "~_df[\"col1\"].isnull()\n",
    "_df[\"col3\"] == 2\n",
    "_df[\"col3\"] == 2 & _df[\"col2\"].isnull()\n",
    "\n",
    "_df[_df[\"col3\"] == 2]\n",
    "_df[_df[\"col3\"] == 2][\"col4\"]"
   ]
  },
  {
   "cell_type": "markdown",
   "metadata": {},
   "source": [
    "### Task 4:  What places hire a lot of first years?\n"
   ]
  },
  {
   "cell_type": "code",
   "execution_count": null,
   "metadata": {
    "collapsed": true
   },
   "outputs": [],
   "source": [
    "one_coops = df[df[\"numcoops\"] == 1][\"company1\"]\n",
    "two_coops = df[df[\"numcoops\"] == 2][\"company2\"]\n",
    "three_coops = df[df[\"numcoops\"] == 3][\"company3\"]\n",
    "four_coops = df[df[\"numcoops\"] == 4][\"company4\"]\n",
    "five_coops = df[df[\"numcoops\"] == 5][\"company5\"]\n",
    "six_coops = df[df[\"numcoops\"] == 6][\"company6\"]"
   ]
  },
  {
   "cell_type": "code",
   "execution_count": null,
   "metadata": {
    "scrolled": true
   },
   "outputs": [],
   "source": [
    "one_coops.append(two_coops).append(three_coops).append(four_coops).append(five_coops).append(six_coops).value_counts()"
   ]
  },
  {
   "cell_type": "markdown",
   "metadata": {},
   "source": [
    "### Takeaway from task 4: \n",
    "- You probably won't get cali if you're first coop\n",
    "- Shopify is pretty cool, apply there "
   ]
  },
  {
   "cell_type": "markdown",
   "metadata": {},
   "source": [
    "### Task 5:  What places hire a lot of interns who return?\n",
    "\n",
    "This task has been cut due to time "
   ]
  },
  {
   "cell_type": "code",
   "execution_count": null,
   "metadata": {},
   "outputs": [],
   "source": [
    "return1 = df[df[\"company1\"] == df[\"company2\"]][\"company1\"]\n",
    "return2 = df[df[\"company2\"] == df[\"company3\"]][\"company2\"]\n",
    "return3 = df[df[\"company3\"] == df[\"company4\"]][\"company3\"]\n",
    "return4 = df[df[\"company4\"] == df[\"company5\"]][\"company4\"]\n",
    "return5 = df[df[\"company5\"] == df[\"company6\"]][\"company5\"]\n",
    "return1.append(return2).append(return3).append(return4).append(return5).value_counts()"
   ]
  },
  {
   "cell_type": "markdown",
   "metadata": {},
   "source": []
  },
  {
   "cell_type": "markdown",
   "metadata": {},
   "source": [
    "### Demo 5 - Summing in Pandas \n",
    "Students should learn:\n",
    "\n",
    "- How to sum in Pandas\n",
    "- How to sort by values in a series\n",
    "- Chaining & Optional parameters & the importance of reading documentation"
   ]
  },
  {
   "cell_type": "code",
   "execution_count": null,
   "metadata": {
    "collapsed": true
   },
   "outputs": [],
   "source": [
    "# preprocess datasets - this command will not be shown\n",
    "skills = df[\"skills\"].fillna(\"\")\n",
    "ranked_skills_list = skills.apply(lambda x: pd.value_counts(x.split(\",\")) )\n",
    "ranked_skills_list.drop(\"\", axis=1, inplace=True)\n",
    "ranked_skills_list.to_csv(\"skills_data.csv\", index=False)\n",
    "\n"
   ]
  },
  {
   "cell_type": "code",
   "execution_count": null,
   "metadata": {
    "scrolled": true
   },
   "outputs": [],
   "source": [
    "ranked_roles_list = pd.read_csv(\"skills_data.csv\")\n",
    "\n",
    "skills_summed = ranked_skills_list.sum(axis = 1)\n",
    "skills_summed = ranked_skills_list.sum(axis = 0)\n",
    "skills_summed = ranked_skills_list.sum(axis = 0).sort_values(ascending=False)\n",
    "skills_summed.head(20)\n"
   ]
  },
  {
   "cell_type": "markdown",
   "metadata": {},
   "source": [
    "### Task 6 - What skills do a lot of people use on their jobs?"
   ]
  },
  {
   "cell_type": "code",
   "execution_count": null,
   "metadata": {
    "collapsed": true
   },
   "outputs": [],
   "source": [
    "# PreProcess - Will not be demo'd  \n",
    "\n",
    "roles_list = pd.Series()\n",
    "for idx, r in df.iterrows():\n",
    "    roles = str(r[\"roles1\"])\n",
    "    if r[\"numcoops\"] > 2:\n",
    "        roles = roles + \" \" + str(r[\"roles2\"])\n",
    "    if r[\"numcoops\"] > 3:\n",
    "        roles = roles + \" \" + str(r[\"roles3\"])\n",
    "    if r[\"numcoops\"] > 4:\n",
    "        roles = roles + \" \" + str(r[\"roles4\"])\n",
    "    if r[\"numcoops\"] > 5:\n",
    "        roles = roles + \" \" + str(r[\"roles5\"])\n",
    "    if r[\"numcoops\"] > 6:\n",
    "        roles = roles + \" \" + str(r[\"roles6\"])\n",
    "    \n",
    "    words = roles.split(\" \")\n",
    "    sk = \" \"\n",
    "    for w in words:\n",
    "        w = w.strip()\n",
    "        if w in ranked_skills_list and w != \"\":\n",
    "            sk = sk + \",\" + w\n",
    "    roles_list.set_value(idx, sk[1:])\n",
    "ranked_roles_list = roles_list.apply(lambda x: pd.value_counts(x.split(\",\")) )\n",
    "ranked_roles_list.drop(\"\", axis=1, inplace=True)\n",
    "ranked_roles_list.to_csv(\"roles_data.csv\", index=False)"
   ]
  },
  {
   "cell_type": "code",
   "execution_count": null,
   "metadata": {},
   "outputs": [],
   "source": [
    "ranked_roles_list = pd.read_csv(\"roles_data.csv\")\n",
    "\n",
    "duties_summed = ranked_roles_list.sum(axis = 0).sort_values(ascending=False)\n",
    "# Maybe a more simpler version?\n",
    "#ranked_skills_list = pd.Series(skills.str.cat(sep=\",\").split(\",\")).value_counts()\n",
    "duties_summed.head(20)"
   ]
  },
  {
   "cell_type": "markdown",
   "metadata": {},
   "source": [
    "### Takeaways from Task 7\n",
    "\n",
    "- iOS and Android dev is useful for many jobs, but many people do not have it as a skill. Mobile dev may be a good niche to get into if you want the least competiton when applying for jobs ;) \n",
    "- For those interested in data, Spark may  be a good framework to learn \n",
    "- C++ is known by many people, but not many jobs are using C++. The oppositie is true for Golang\n",
    "- Python is quite a popular language to learn and also use on the job \n",
    "- Docker doesnt seem that popular in terms of co-op jobs (may imply DevOps jobs are rare). Validate this hypothesis? "
   ]
  }
 ],
 "metadata": {
  "kernelspec": {
   "display_name": "Python 3",
   "language": "python",
   "name": "python3"
  },
  "language_info": {
   "codemirror_mode": {
    "name": "ipython",
    "version": 3
   },
   "file_extension": ".py",
   "mimetype": "text/x-python",
   "name": "python",
   "nbconvert_exporter": "python",
   "pygments_lexer": "ipython3",
   "version": "3.6.7"
  }
 },
 "nbformat": 4,
 "nbformat_minor": 2
}
